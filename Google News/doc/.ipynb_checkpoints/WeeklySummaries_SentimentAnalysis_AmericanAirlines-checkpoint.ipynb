{
 "cells": [
  {
   "cell_type": "markdown",
   "metadata": {},
   "source": [
    "## Extractive Summarization"
   ]
  },
  {
   "cell_type": "code",
   "execution_count": 1,
   "metadata": {},
   "outputs": [],
   "source": [
    "import json\n",
    "\n",
    "import spacy\n",
    "from spacy.util import minibatch, compounding\n",
    "from spacy.pipeline import SentenceSegmenter\n",
    "from spacy.lang.en.stop_words import STOP_WORDS\n",
    "\n",
    "from sumy.parsers.plaintext import PlaintextParser\n",
    "from sumy.parsers.html import HtmlParser\n",
    "from sumy.nlp.tokenizers import Tokenizer\n",
    "from sumy.summarizers.lex_rank import LexRankSummarizer\n",
    "\n",
    "import re\n",
    "import time\n",
    "import pandas as pd"
   ]
  },
  {
   "cell_type": "code",
   "execution_count": 2,
   "metadata": {},
   "outputs": [],
   "source": [
    "# Defining a LexRank class \n",
    "class TextSummary(object): \n",
    "    def __init__(self, feeds_str, num_sents):\n",
    "        self.summary = str()\n",
    "        parser = PlaintextParser.from_string(feeds_str, Tokenizer(\"english\"))\n",
    "        summarizer = LexRankSummarizer()\n",
    "        sentences = summarizer(parser.document, num_sents)  # Summarize the document with 5 sentences\n",
    "        for sentence in sentences:\n",
    "            self.summary += (sentence.__unicode__())\n",
    "    def output(self):\n",
    "        return self.summary"
   ]
  },
  {
   "cell_type": "code",
   "execution_count": 3,
   "metadata": {},
   "outputs": [],
   "source": [
    "#Parsing json files \n",
    "def parse_json_file(json_file):\n",
    "    with open(json_file) as f:\n",
    "        lines = f.readlines()\n",
    "    parsed_json = [json.loads(line) for line in lines]\n",
    "    return parsed_json\n"
   ]
  },
  {
   "cell_type": "code",
   "execution_count": 4,
   "metadata": {},
   "outputs": [],
   "source": [
    "DATA_FILE=r\"C:/Users/tramh/github/Data-Science-Portfolio/Airlines Covid-19/data/Airlines_dedup.json\""
   ]
  },
  {
   "cell_type": "code",
   "execution_count": 5,
   "metadata": {},
   "outputs": [],
   "source": [
    "# Load in deduped dataset - clean\n",
    "mydata = parse_json_file(DATA_FILE)"
   ]
  },
  {
   "cell_type": "code",
   "execution_count": 6,
   "metadata": {},
   "outputs": [],
   "source": [
    "# Add new cleaned date field\n",
    "for feed in mydata:\n",
    "    feed['date_clean'] = feed['published'][:10]"
   ]
  },
  {
   "cell_type": "code",
   "execution_count": 7,
   "metadata": {},
   "outputs": [],
   "source": [
    "# Unique ID for each article\n",
    "ids = [feed['id'] for feed in mydata]\n",
    "\n",
    "# Extract dates and feeds and put into a dictionary\n",
    "dates = [feed['date_clean'] for feed in mydata]\n",
    "feeds = [feed['text'] for feed in mydata]\n",
    "feed_dict = {ids[i]: [dates[i], feeds[i]] for i in range(len(feeds))}\n",
    "\n",
    "# Clean the dates field\n",
    "dates_clean = [date[:10] for date in dates]\n",
    "unique_dates = set(dates_clean)\n",
    "\n",
    "# Create a list of indices for each article\n",
    "for i in range(len(mydata)):\n",
    "    mydata[i]['id'] = i"
   ]
  },
  {
   "cell_type": "code",
   "execution_count": 8,
   "metadata": {},
   "outputs": [],
   "source": [
    "# Summarizing each individual feed to five sentences\n",
    "for feed in mydata:\n",
    "    try:\n",
    "        feed['summary'] = TextSummary(feed['text'], num_sents=5).output()\n",
    "    except:\n",
    "        continue\n",
    "\n",
    "text_summaries = [feed['summary'] for feed in mydata]"
   ]
  },
  {
   "cell_type": "code",
   "execution_count": 9,
   "metadata": {},
   "outputs": [],
   "source": [
    "# Extract just AA articles\n",
    "AA_data = [feed for feed in mydata if 'American Air' in feed['text']]"
   ]
  },
  {
   "cell_type": "code",
   "execution_count": 10,
   "metadata": {},
   "outputs": [],
   "source": [
    "#List of feeds by week\n",
    "\n",
    "W1 = ['2020-06-28', '2020-06-29', '2020-06-30', '2020-07-01', '2020-07-02', '2020-07-03', '2020-07-04']\n",
    "W2 = ['2020-07-05', '2020-07-06', '2020-07-07', '2020-07-08', '2020-07-09', '2020-07-10', '2020-07-11']\n",
    "W3 = ['2020-07-11', '2020-07-12', '2020-07-13', '2020-07-14', '2020-07-15', '2020-07-16', '2020-07-17']\n",
    "W3 = ['2020-07-18', '2020-07-19', '2020-07-20', '2020-07-21', '2020-07-22', '2020-07-23', '2020-07-24']\n",
    "\n",
    "W1_feeds = []\n",
    "W2_feeds = []\n",
    "W3_feeds = []\n",
    "W4_feeds = []\n",
    "\n",
    "for feed in AA_data:\n",
    "    for day in unique_dates:\n",
    "        if feed['date_clean'] == day:\n",
    "            if day in W1:\n",
    "                W1_feeds.append(feed['summary'])\n",
    "            elif day in W2:\n",
    "                W2_feeds.append(feed['summary'])\n",
    "            elif day in W3:\n",
    "                W3_feeds.append(feed['summary'])\n",
    "            else:\n",
    "                W4_feeds.append(feed['summary'])\n"
   ]
  },
  {
   "cell_type": "code",
   "execution_count": 11,
   "metadata": {},
   "outputs": [
    {
     "name": "stdout",
     "output_type": "stream",
     "text": [
      "Moving on to another week...\n",
      "Week summaries completed in 0.1476362899999998 mins\n",
      "======================================================\n",
      "Moving on to another week...\n",
      "Week summaries completed in 0.07667474833333329 mins\n",
      "======================================================\n",
      "Moving on to another week...\n",
      "Week summaries completed in 0.0803770883333333 mins\n",
      "======================================================\n",
      "Moving on to another week...\n",
      "Week summaries completed in 0.2186993316666668 mins\n",
      "======================================================\n"
     ]
    }
   ],
   "source": [
    "# Extractive Summarization by week\n",
    "\n",
    "weekly_feeds = [W1_feeds, W2_feeds, W3_feeds, W4_feeds]\n",
    "weekly_summary = []\n",
    "for week_feed in weekly_feeds:\n",
    "    tic = time.perf_counter()\n",
    "    print('Moving on to another week...')\n",
    "    text = ' '.join([str(elem) for elem in week_feed]) \n",
    "    week_summary = TextSummary(text, 5).output()\n",
    "    weekly_summary.append(week_summary)\n",
    "    toc = time.perf_counter()\n",
    "    print('Week summaries completed in {} mins'.format((toc-tic)/60))\n",
    "    print('======================================================')"
   ]
  },
  {
   "cell_type": "code",
   "execution_count": 12,
   "metadata": {},
   "outputs": [
    {
     "name": "stdout",
     "output_type": "stream",
     "text": [
      "I had multiple friends fly on full American and United flights.Obviously, flying on a plane with an empty seat next to you won’t prevent you from getting COVID-19, but it will reduce the chances and make your flight a lot more enjoyable.I’m still not comfortable traveling, but if I were, I would be booking a ticket with one of the four airlines below because they are blocking middle seats: Alaska Airlines: “Through July 31, 2020, we are blocking middle seats and flights will be capped at 65% capacity to allow for extra space between guests not traveling together.” ( source ) Delta Air Lines: “Through Sept. 30, all middle seats will continue to be shown as unavailable or not assignable when selecting seats via the Fly Delta app or online.Customers can pick their seat—if you’re traveling together, you’re welcome to sit together.” ( source ) As you can see, JetBlue’s policy of blocking middle seats is set to expire on July 6.More on that: Thumb Score: 0 American Airlines have round trip airfares travelling to and from New York (LGA) and Anchorage Alaska (ANC) for $288, making 1 stop.These are basic economy fares, a restricted-type fare but these are also flexible-change tickets where if your plans change, you may make a change without paying a fee.You will still have to pay any fare difference.Travel Availability: Departs LGA: Sept 1, 9-10, 14-17, 21-24, 28-30; Oct 1, 5-6 Departs ANC: Sept 9-10, 14-17, 21-24, 28-30; Oct 1, 5-6 So, what does US airlines social distancing measures look like right now?Frontier Air Social Distancing: NO Mask Required: YES Allows you to take an alternate flight: NO In what appears to be a trend among US ULCCs, there is no attempt to socially distance onboard Frontier aircraft.So, in practice, I’m sure this means they’re simply putting a capacity limit on all flights.That said, United does require masks onboard all of their flights.And, they do say that they’ll contact you and give you the option to take an alternate flight if your schedule flight looks like it’ll be “fairly full.” US Airlines Social Distancing Measures, Final Thoughts Much like the rest of our nation, our airlines’ response to COVID-19 has been all over the place.Petri said he voiced his concerns to a flight attendant, but Allegiant at the time didn't require passengers to wear masks.He said he wore the covering because it is obligatory and because of the people he will visit on his trip.He said that while most passengers were wearing masks onto the plane, he saw about four people who he does not think wore masks on the flight except when they walked to the restroom.“I’ll say most people were in compliance, but you had more than a handful that decided they weren’t going to comply with it,” he said, “and you didn’t have Southwest doing very much to enforce it.” He said one flight attendant’s mask was below her nose, and she took it off to talk to people.She also said that Allegiant employees are required to wear masks when interacting with customers, but some personnel are exempt of the requirement because of medical reasons.The policy is similar to that of United Airlines Holdings, Inc. ( UAL - Free Report ) , which had never blocked out seats or put a cap on the capacity of its flights.At the same time, A4A said that its member carriers will refund tickets to a passenger who fails the screening test at the airport.The airline industry has been hit hard by the coronavirus pandemic and now as travel resumes, blocking seats means incurring more losses.At the same time, the airline industry has requested the Transportation Security Administration (TSA) to start administering temperature checks on passengers as they go through security checkpoints and anyone found to have an elevated temperature — as defined by the Centers for Disease Control and Prevention (CDC) guidelines — will not be allowed to fly and be made eligible for a ticket refund.See 8 breakthrough stocks now>> Given the ongoing coronavirus pandemic, the design and marketing consultant showed up at the airport in El Paso wearing swim goggles and two masks layered over one another, ready to board the first of her two American Airlines flights home to Michigan.To her dismay, as she made her way back to her seat in the 20th row, she realized it would be virtually impossible to maintain social distancing on the plane: Passengers filled every row including the middle seats; as far as she could see, only one place appeared to be unoccupied.American Airlines had offered travelers up to $250 to switch to a different flight that “has more space” ahead of departure, but Macatangay had an appointment she couldn’t miss.American Airlines notifies passengers when their flight is likely to be crowded—and sometimes offers monetary incentives to take a different flight when the plane is too full.Kass McQuillen, a former contestant on CBS reality series “Survivor,” wrote on Twitter that she’d flown on four “overbooked” American Airlines flights in the past two weeks and “was offered vouchers worth more than my ticket to give up my seat.” The American Airlines spokesperson says “no flight was oversold or sold out” during the pandemic, but that if it were over the 85% capacity limit “it would solicit for volunteers in advance.” Still, with the airline selling tickets beyond that restricted threshold, it may encounter a problem if every passenger shows up wanting to fly.And even if the planes didn’t take off with a full load, if more than 85% of seats were filled upon boarding, it’s unclear whether the restrictions made a difference in preventing the spread of COVID-19 germs at all.Laughable since I’ve been on four flights in the past two weeks that were overbooked and was offered vouchers worth more than my ticket to give up my seat.Blocked Middle Seats Right now, only Alaska Airlines, Delta, Hawaiian Airlines, JetBlue and Southwest are blocking seats for sale to limit the number of passengers onboard.If you’re flying another airline, you should expect planes to be as full as ever before.Delta Airlines Mask Policy: Passengers and crew members are required to wear face coverings onboard, with exceptions for children and those with some medical conditions.Southwest Airlines Mask Policy: Customers are required to wear a face covering for boarding and the duration of the flight.Blocked Seats: Spirit is not limiting capacity on board their flights and notes that some aircraft may be more full than others.New International Strategy For American Airlines American Airlines will concentrate international operations in three gateways: Dallas Fort Worth International Airport (DFW) – transpacific hub Miami International Airport (MIA) – Caribbean + Latin America hub Philadelphia (PHL) – transatlantic hub Charlotte (CLT), Chicago (ORD), and Los Angeles (LAX) will still retain some service, but American is shifting its focus to “strategic” hubs.American’s Chief Revenue Officer Vasu Raja said: “COVID-19 has forced us to reevaluate our network.American will have a significantly smaller international network in the year ahead, but we are using this opportunity to hit reset and create a network using the strength of our strategic hubs that we can build and grow upon and be profitable on in this new environment.” Seattle, AA’s new west coast focus city, will snatch the Shanghai flight from Los Angeles.Other cancelled LAX flights (Beijing, Buenos Aires, Hong Kong, Sao Paulo) will not shift to Seattle at this time, but simply not return post-pandemic.The routes at LAX were called “underperforming.” American Airlines Updated 2020-21 International Schedule Here is the complete list of AA’s planned international longhaul service for the remainder of 2020 and into 2021: Origin A day after the Centers for Disease Control and Prevention (CDC) slammed American Airlines for its decision to start selling flights to maximum capacity, United’s chief communications officer told journalists that blocking the middle seat on a plane for social distancing purposes was a “PR strategy” but not a safety strategy.“When you’re on board the aircraft, if you’re sitting in the aisle, and the middle seat is empty, the person across the aisle is within six feet from you, the person at the window is within six feet of you, the people in the row in front of you are within six feet of you, the person in the row behind you are within six feet of you.” United, however, says it is “committed to putting health and safety at the forefront of every customer’s journey” with a slew of other measures including a mandatory face mask rule, electrostatic disinfectant spraying, enhanced cabin cleaning and a touchless check-in and baggage drop experience.In contrast to American and United, the likes of Delta, Southwest and jetBlue have committed to blocking middle seats and limiting capacity for the rest of the summer season.CDC Director Dr Robert Redfield told a Senate committee yesterday that there was “substantial disappointment” with American Airlines for its decision to start selling flights to capacity.The UN’s International Civil Aviation Organization only suggests blocking the middle seat for social distancing purposes when flight loads are light but the influential body does not recommend limiting capacity.\n",
      "\n",
      "Home » Fare Sales » American Airlines offers 45% off when Buying Miles American Airlines offers 45% off when Buying Miles Posted By Jon Nickel-D'Andrea on Jul 5, 2020 | 0 comments If you’re in a buying mood and planning for the future, American Airlines is offering a 45% discount for the month of July if you buy miles.One-way from the US to the Middle East in business class is 70,000 miles (round trip for 140,000 miles).If you want something even more luxurious, 110,000 miles will get you a one-way ticket in the Etihad First Class apartment.70,000 American Airlines Advantage miles will get you a one-way ticket to Doha (or the Middle East), so for 140,000 miles round trip you’ve got yourself a ticket.You can fly to Doha from Qatar’s US destinations Atlanta American Airlines is a Business The basis of Teigen’s tweet is preposterous.It doesn’t matter if the company’s slogan is “Getting people there and making a difference” or any other esoteric approach – if they do not make money, they do not exist.It Wouldn’t Matter Anyway Let’s just pretend for a moment that American Airlines did not sell the middle seat, what difference would it make?If you want an open middle seat, buy it – all the carriers will be happy to sell one to you.No matter how many other jingoistic mission statements they come up with, if they do not make money they have failed their purpose.American Airlines did say they will notify passengers once flights are full and allow them to changes flights to lesser crowded planes until September 30th.“I think there is a lot of stress in traveling now and but at the same token you need to get out there and get back in the swing of things and travel,” said Bob Woodger, visiting from Honolulu, Hawaii.“I think they are doing well now, I’m sorry that we didn’t do a better job in the last couple of weeks, but if we can just stick with it, I think we’ll do well but we just can’t back off,” explained Bauwens.American Airlines also says once onboard, passengers may move to a different seat in their cabin if available.But many health experts, including the CDC, say flying may increase the risk of exposure.In an interview on CNN , Josh Earnest, who is United’s chief communications officer, said that “keeping the seat next to you open is not going to make a material difference.” United has said it will continue to sell middle seats while limiting the overall number of passengers on flights.This, however, is the first time an airline (to my knowledge) has simply said social distancing isn’t a thing on an airplane so it really doesn’t matter how many people we pack on the plane.Is blocking middle seats on an airplane safer than packing people in every row?I have no idea, but I can tell you I’d feel a lot more comfortable getting on a plane if the airline made a point of going beyond the bare minimum of telling me to wear a mask and promising that they clean the plane.I’m not suggesting that airlines can continue to fly with empty seats forever, but if people don’t feel safe getting on a plane, those seats will remain empty and it won’t be by choice.What’s going on: United Airlines is one airline company that plans to sell middle seats on its fight amid the coronavirus pandemic and calls for social distancing.that “keeping the seat next to you open is not going to make a material difference.” Earnest said: “When it comes to blocking middle seats, that’s a PR strategy, that’s not a safety strategy.” He said blocking middle seats probably doesn’t help.“If you want to stay safe on the airplane, we need to wear a mask.The airplane needs to be thoroughly cleaned, and we need to make sure that every stage of your journey, where we can socially distance, that we’re doing that.He said: “This is incredibly irresponsible.After flying seven times on four different airlines during the coronavirus pandemic, one reporter has determined the safest airline to fly if you absolutely have to travel.Every airline is taking certain precautions due to the COVID-19 pandemic, but some are going to extra mile by blocking middle seats and letting passengers change flights for free.Flying might sound terrifying right now, but for those of you who have no choice but to fly for work or personal reasons, you might want to know which airline is doing the best job of adhering to social distancing and hygiene guidelines.American appears to be the laxest when it comes to seating, as United is only assigning middle seats after the flight hits 70% capacity, Southwest is only allowing two people per row (except for families), and Delta is blocking all middle seats and even some aisle seats until September 30th.If you’re entirely unconcerned about sitting on a packed flight in the middle seat, it sounds like American Airlines should be your airline of choice.\n",
      "\n",
      "I really wish airlines would adopt policies like these to help actually decrease the problem: This guy, as well as others, have said they can’t wear a mask because of mysterious and undisclosed “medical reasons.” With rare exception (and yes, I know there are exceptions), they’re just trying to use the Americans With Disabilities act as a “loophole” when they don’t actually have any sort of documented disability or medical condition that would prevent them from wearing a facial covering.Delta and United have said they too have banned passengers who refuse to wear masks on their planes.Airlines would need to spell this out on their respective websites, but if they can make passengers know that if they refuse to wear a mask on their upcoming flight, it will be their last flight on any airline, it might make people think twice before refusing to wear a facial covering.I think that’s a good thing and I hope the other airlines follow their lead.Unfortunately, jerks will be jerks and I have no doubt someone will still go on a plane and when they’re at 35,000 feet, will decide to not wear their mask anymore.(Photo: Southwest Airlines) Southwest Airlines (NYSE: LUV ) recorded a $1.5 billion adjusted net loss in the second quarter, a direct result of the devastating impact of the coronavirus pandemic on passenger travel.During the second quarter of 2019, Southwest had $5.9 billion in revenue and net income of $714 million.It estimates July operating revenues to decrease 70% to 75%, year-over-year, with capacity down about 30% and load factors in the range of 40% to 45%.Average core cash burndecreased by nearly half during second quarter 2020, from approximately $900 million in April, or $30 million per day, to approximately $500 million in June, or $16 million per day, resulting in second quarter 2020 average core cash burn of $23 million per day, primarily due to strengthening revenue trends,” Kelly said.(Photo by VanderWolf Images/Shutterstock) Big U.S. airlines banning customers for not wearing masks We told you how American Airlines and United Airlines were banning passengers from flying in the future if any refused to wear face coverings.If you’ve got a health condition that does exempt you from wearing a mask, Delta says you should “be prepared to complete a ‘Clearance-to-Fly’ process prior to departure at the airport… [P]lease arrive early to complete the process during check-in and avoid missing your flight – this process can take over one hour… Any false claims of a disability or health condition to obtain an exemption from wearing a mask or face covering may result in the suspension of travel privileges on any Delta flight for the duration of the mask/face covering requirement.” In other words, after masks are no longer mandatory, Delta’s travel ban on these customers appears to lift.Its website states , “with that warning – in the form of a yellow card handed to them – the guest’s travel with us will be reviewed and could be suspended for a period.” Bottom Line Airlines have said that after masks are no longer a requirement, they’ll remove flyers off restricted lists.Share Apply Now Delta SkyMiles® Platinum American Express Card Earn 40,000 bonus miles and 5,000 Medallion Qualification Miles (MQMs) after you spend $2,000 in purchases on your new Card in your first 3 months.Plus, earn a $100 statement credit after you make a Delta purchase with your new Card within your first 3 months.In its updated FAQ section , Southwest now states that “if a Customer is unable to wear a face covering for any reason (even a verifiable medical condition), we regret that we are unable to transport the Customer at this time.” The airline’s advice for passengers who can’t wear a mask is to either postpone their travel or “consider other forms of transportation .” Advertisement American Airlines’ press release states that they will not give any exemptions to anyone over age 2, and that the only time masks are permitted to come off on the plane is during eating and drinking.United and Delta have also announced that they’re modifying existing mask policies.Passengers will also now have to wear masks everywhere in the airport as well, including at check-in counters and at gates.Delta’s new policy states that passengers who can’t wear a mask for medical reasons must go through a ‘Clearance-to-Fly’ process at the airport before boarding , which includes a consultation with a medical professional, and warns that they should arrive early as it could take up to an hour.Some airlines have threatened to put rule-flouting passengers on their no-fly lists , and the CEO of Delta revealed that the airline has already banned over 100 passengers for refusing to comply with its mask policy.But without a federal order, their ability to enforce their new rules remains limited—at best.American Airlines, United Airlines, and Southwest Airlines this week all said they would expand their existing requirements for passengers to wear face masks aboard their planes and even as soon as they enter the airport, to protect workers and fellow passengers from the risk of contracting COVID-19.“But unless [wearing masks is] mandated by the federal government, then it’s spotty—and it’s much less effective.” ‘Let’s mandate masks’ The federal government does not currently require that Americans wear face masks in airports or on airplanes, and the White House has resisted calls to mandate face coverings in public—even though greater mask discipline could halt the spread of the coronavirus in four to six weeks, the director of the U.S. Centers for Disease Control and Prevention said last week .Why can’t we mandate that you have to wear a mask in a pandemic?” Spokespeople for United and American referred questions about federal regulations to Airlines for America, an industry trade group, which has not requested a federal mandate on mask-wearing; a spokeswoman would not comment on the matter.For example, children over the age of two are required to wear masks, but if an older child “is fidgeting with it and has pulled a mask down…we're not going to ask the flight attendants to sternly ask the child to pull their mask up over their nose, you know?” Aviation industry analyst Henry Harteveldt of Atmosphere Research Group also points out that, even on the emptier flights these days, flight attendants “can’t be everywhere, especially during takeoff and landing.” “Flight attendants do the best that they can, but there’s some passengers who are simply trying to outfox the flight attendants because they don’t want to wear a mask,” he adds.\n",
      "\n",
      "Two analysts covering Southwest Airlines took two different tacks on the stock, with one analyst raising the price target and one downgrading to the equivalent of Hold.Southwest stock is down about 1.6% in trading Monday, falling more than the 0.6% decline in the NYSE Arca Airline Index.The challenge for Southwest and other airlines now is that travel momentum may be slowing due to the recent rise in Covid-19 cases and new quarantine rules issued by more than a dozen states and some cities.Images of unmasked passengers on planes are still popping up on Twitter, including on a July 9 flight on Southwest from Raleigh-Durham to Denver.From REUTERS/Mike Blake/File Photo July 14, 2020 By Tracy Rucinski and David Shepardson CHICAGO/WASHINGTON (Reuters) – Delta Air Lines may be able to avoid involuntary furloughs in the fall after receiving interest from more than 15,000 employees for early buyout packages, one person with knowledge of the matter said, even as other U.S. airlines are sounding the alarm on jobs.Delta, which is due to present second-quarter results on Tuesday, declined to comment.Because labor contracts require airlines to furlough in reverse order of seniority, those that can encourage more senior people to leave could have generally lower labor costs as they brace for a slow rebound.Southwest Airlines Chief Executive Gary Kelly told employees on Monday that he was concerned about the impact of a recent rise in COVID-19 cases and quarantines on already-weak travel demand and said passenger numbers would need to triple by the end of the year to prevent job cuts.He added that a spike in cases and travel restrictions “aren’t positive developments for our business, and we are concerned about the impact on already weak travel demand.” Southwest and United employees have until July 15 to apply for early exits.He’s also holding a cup of coffee in the picture, and his office says he removed the mask to drink his coffee, which would not be a violation of the airline’s mask policy.American Airlines told The Hill that it is reviewing the incident, saying, “We are committed to protecting the health and safety of all those who fly with us, and we are reviewing the details of this matter.” Here’s what you need to know: American Airlines Does Require Face Coverings When Flying For those trying to argue that he was drinking, it's not hard to have a mask on and undo one side to take a sip then put it back on.Be sure your face covering is on before you board the plane and wear it during your flight.Your face covering may be removed to eat or drink, but please put it back on when you’re done.Cruz’s Spokesperson Says He Didn’t Violate Policy SPOTTED: Ted Cruz wearing a mask on a plane when he isn't drinking coffee https://t.co/ma6GVbqIBo pic.twitter.com/7bI8tSGeL8 — Comfortably Smug (@ComfortablySmug) July 13, 2020 A spokesperson for Cruz told Time Magazine that he removed the mask to drink and shared the above photo from a different Sunday flight showing him wearing a mask on a plane.Home Select Page 'A day none of us wanted to see': American Airlines warns employees of up to 25,000 job cuts Posted by Editor - Travel News | Jul 15, 2020 | Travel | 0 | CLOSE The DOT warning comes as travelers have blasted United and other airlines skirting its policies on cash refunds for canceled flights.USA TODAY American Airlines executives warned employees late Wednesday that the airline will have to lay off as many as 25,000 front-line workers this fall because travel has not rebounded from the coronavirus crisis as they had hoped.The job cuts, which cover unionized employees including pilots, flight attendants, mechanics and airport workers, represent nearly 30% of the company’s 85,000 front-line workers in its U.S. mainline operation.American previously cut 30% of its corporate staff, or 5,000 employees.In a memo to employees, American CEO Doug Parker and President Robert Isom said the goal American Airlines is notifying about 25,000 workers that their jobs could be eliminated in October because of plunging demand for air travel, adding to the toll that the virus pandemic is taking on the airline industry.American's top executives said Wednesday that the number of furloughs could be lower if enough workers take buyouts or accept partially paid leave for up to two years.Advertisement The airline’s two top officials said they thought American might avoid furloughs because they believed demand for air travel would “steadily rebound” by Oct. 1 as the virus outbreak weakened.“That unfortunately has not been the case,” CEO Doug Parker and President Robert Isom said in a memo to employees.United Airlines sending layoff warnings to nearly half of its US employees » U.S. airlines accepted up to $25 billion in federal aid to help cover payroll costs in exchange for not cutting jobs until October.Bottom line American has too many flight attendants American Airlines has made it clear that it has 20,000+ more employees than it will need this fall.American has 20K+ more employees than it needs American paints grim picture of flight attendant duties American Airlines’ SVP of Flight Service has sent a note to flight attendants about what they can expect come October 1, should they still be working at the airline.While we have talked about these ideas previously, it may be helpful to see it all together as you are deciding your future.” The memo goes on to explain the following: 80% of flight attendants will spend at least some months on reserve, and this will possibly even apply to those with over 35 years of seniority; for those of you not familiar, “reserve” is when flight attendants don’t know their schedules in advance, but rather are on call for any trip Trips will look different for flight attendants, as there will be a lot of four day domestic trips, with longer duty days, more flights per day, longer sit times, and shorter overnight layovers Fewer flight attendants will be working international trips through at least the end of 2021, as American’s international schedule will be reduced, and American is also reducing staffing on these flights Displacements are likely, meaning flight attendants in some bases may have to transfer to other bases, which would translate to having to move or commute Masks will be mandatory “for a while” There will be fewer international trips for flight attendants to work The memo then goes on to remind flight attendants of the current voluntary offerings on the table, as clearly the intent here is to get more people to accept these.At least the memo also has this (somewhat) positive message: “I know many of you have already decided that you are in this for the long-term because you still love this great profession and/or you need the financial stability this job provides.With this decision, you’re re-committing yourself to rebuilding our airline and everything the flight attendant job will entail moving forward.” The company is saying to expect the future to look different Bottom line This is an interesting approach for American Airlines to take.Agreed.Although it was dumb of American Airlines to not already have their policy state \"no mask, no fly.Period.\"\n",
      "\n"
     ]
    }
   ],
   "source": [
    "for summary in weekly_summary:\n",
    "    print(summary)\n",
    "    print()"
   ]
  },
  {
   "cell_type": "markdown",
   "metadata": {},
   "source": [
    "### Sentiment Analysis using NLTK Sentiment Intensity Analyzer"
   ]
  },
  {
   "cell_type": "code",
   "execution_count": 13,
   "metadata": {},
   "outputs": [],
   "source": [
    "import nltk\n",
    "from nltk.sentiment.vader import SentimentIntensityAnalyzer "
   ]
  },
  {
   "cell_type": "code",
   "execution_count": 14,
   "metadata": {},
   "outputs": [
    {
     "name": "stdout",
     "output_type": "stream",
     "text": [
      "Week 1 Sentiment Analysis:\n",
      "neg: 0.053, neu: 0.882, pos: 0.065, compound: 0.9537, \n",
      "Week 2 Sentiment Analysis:\n",
      "neg: 0.058, neu: 0.839, pos: 0.104, compound: 0.9904, \n",
      "Week 3 Sentiment Analysis:\n",
      "neg: 0.075, neu: 0.857, pos: 0.068, compound: -0.9172, \n",
      "Week 4 Sentiment Analysis:\n",
      "neg: 0.055, neu: 0.875, pos: 0.07, compound: 0.9547, \n"
     ]
    }
   ],
   "source": [
    "i=0\n",
    "\n",
    "sent_analyzer = SentimentIntensityAnalyzer()\n",
    "for sentence in weekly_summary:\n",
    "    scores = sent_analyzer.polarity_scores(sentence)\n",
    "    print(\"Week \" + str(i+1) + \" Sentiment Analysis:\")\n",
    "    i+=1\n",
    "    for k in scores:\n",
    "        print('{0}: {1}, '.format(k, scores[k]), end='')\n",
    "    print()"
   ]
  },
  {
   "cell_type": "code",
   "execution_count": 15,
   "metadata": {},
   "outputs": [],
   "source": [
    "score_list = []\n",
    "sent_list = []\n",
    "sent_analyzer = SentimentIntensityAnalyzer()\n",
    "for sentence in weekly_summary:\n",
    "    scores = sent_analyzer.polarity_scores(sentence)\n",
    "    for k in scores:\n",
    "        sent_list.append(k)\n",
    "        score_list.append(scores[k])"
   ]
  },
  {
   "cell_type": "code",
   "execution_count": 16,
   "metadata": {},
   "outputs": [],
   "source": [
    "week_list = ['Week 1','Week 1','Week 1','Week 1',\n",
    "             'Week 2', 'Week 2','Week 2','Week 2',\n",
    "             'Week 3','Week 3','Week 3','Week 3',\n",
    "             'Week 4','Week 4','Week 4','Week 4']"
   ]
  },
  {
   "cell_type": "code",
   "execution_count": 17,
   "metadata": {},
   "outputs": [],
   "source": [
    "sent_df = pd.DataFrame(list(zip(week_list, sent_list, score_list)),columns =['Week','Sentiment', 'Score'])"
   ]
  },
  {
   "cell_type": "code",
   "execution_count": 18,
   "metadata": {},
   "outputs": [],
   "source": [
    "neg_df = sent_df[sent_df['Sentiment'] == 'neg']"
   ]
  },
  {
   "cell_type": "code",
   "execution_count": 22,
   "metadata": {},
   "outputs": [
    {
     "data": {
      "image/png": "[encoded data removed]",
      "text/plain": [
       "<Figure size 432x288 with 1 Axes>"
      ]
     },
     "metadata": {
      "needs_background": "light"
     },
     "output_type": "display_data"
    }
   ],
   "source": [
    "import matplotlib.pyplot as plt\n",
    "neg_df.plot(kind= 'bar',x='Week', y= 'Score', title = 'Negative Sentiment per Week')\n",
    "plt.show()"
   ]
  },
  {
   "cell_type": "code",
   "execution_count": 20,
   "metadata": {},
   "outputs": [],
   "source": [
    "pos_df = sent_df[sent_df['Sentiment'] == 'pos']"
   ]
  },
  {
   "cell_type": "code",
   "execution_count": 21,
   "metadata": {},
   "outputs": [
    {
     "data": {
      "image/png": "[encoded data removed]",
      "text/plain": [
       "<Figure size 432x288 with 1 Axes>"
      ]
     },
     "metadata": {
      "needs_background": "light"
     },
     "output_type": "display_data"
    }
   ],
   "source": [
    "import matplotlib.pyplot as plt\n",
    "pos_df.plot(kind= 'bar',x='Week', y= 'Score', title = 'Positive Sentiment per Week')\n",
    "plt.show()"
   ]
  },
  {
   "cell_type": "code",
   "execution_count": null,
   "metadata": {},
   "outputs": [],
   "source": []
  }
 ],
 "metadata": {
  "kernelspec": {
   "display_name": "Python 3",
   "language": "python",
   "name": "python3"
  },
  "language_info": {
   "codemirror_mode": {
    "name": "ipython",
    "version": 3
   },
   "file_extension": ".py",
   "mimetype": "text/x-python",
   "name": "python",
   "nbconvert_exporter": "python",
   "pygments_lexer": "ipython3",
   "version": "3.7.3"
  }
 },
 "nbformat": 4,
 "nbformat_minor": 2
}
