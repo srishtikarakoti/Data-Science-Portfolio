{
 "cells": [
  {
   "cell_type": "code",
   "execution_count": 1,
   "metadata": {},
   "outputs": [],
   "source": [
    "# Load deduplicated json file\n",
    "import json\n",
    "airlines=open(\"C:/Users/tramh/github/Data-Science-Portfolio/Airlines Covid-19/data/Airlines_dedup.json\").readlines()"
   ]
  },
  {
   "cell_type": "code",
   "execution_count": 2,
   "metadata": {},
   "outputs": [],
   "source": [
    "# Extract text from json data\n",
    "feed_text = []\n",
    "\n",
    "for feed in airlines:\n",
    "    a = json.loads(feed)\n",
    "    feed_text.append(a['text'])"
   ]
  },
  {
   "cell_type": "code",
   "execution_count": 3,
   "metadata": {},
   "outputs": [],
   "source": [
    "import spacy as sp\n",
    "# Load pre-existing spacy model\n",
    "nlp = sp.load(\"en_core_web_sm\")"
   ]
  },
  {
   "cell_type": "code",
   "execution_count": 4,
   "metadata": {},
   "outputs": [],
   "source": [
    "article = []\n",
    "for i in feed_text:\n",
    "    b = nlp(i)\n",
    "    article.append(b)"
   ]
  },
  {
   "cell_type": "code",
   "execution_count": 5,
   "metadata": {},
   "outputs": [
    {
     "data": {
      "text/plain": [
       "53628"
      ]
     },
     "execution_count": 5,
     "metadata": {},
     "output_type": "execute_result"
    }
   ],
   "source": [
    "#Create the list of Company or Organization entities in the picked article\n",
    "org_list = []\n",
    "for line in article:    \n",
    "    for x in line.ents:\n",
    "        if x.label_ == 'ORG':\n",
    "            org_list.append(x.text)\n",
    "len(org_list)"
   ]
  },
  {
   "cell_type": "code",
   "execution_count": 6,
   "metadata": {},
   "outputs": [],
   "source": [
    "# Create the list of USA airlines. \n",
    "airlines_list = ['Alaska','Allegiant','American Air','Boeing','Delta','Frontier','Hawaiian',\n",
    "                'JetBlue','Southwest','Spirit','United Air']"
   ]
  },
  {
   "cell_type": "code",
   "execution_count": 7,
   "metadata": {},
   "outputs": [],
   "source": [
    "# Count the US Airlines mentioned in articles\n",
    "import pandas as pd\n",
    "\n",
    "orgs = pd.DataFrame(org_list)\n",
    "\n",
    "orgcount = orgs.stack().value_counts()"
   ]
  },
  {
   "cell_type": "code",
   "execution_count": 16,
   "metadata": {},
   "outputs": [
    {
     "data": {
      "text/plain": [
       "United                2108\n",
       "American Airlines     2087\n",
       "United Airlines       1118\n",
       "Southwest Airlines     938\n",
       "Delta                  754\n",
       "Boeing                 709\n",
       "Alaska Airlines        683\n",
       "Spirit Airlines        608\n",
       "COVID-19               544\n",
       "JetBlue                350\n",
       "Airbus                 336\n",
       "American               324\n",
       "NYSE                   304\n",
       "Delta Air Lines        304\n",
       "Reuters                291\n",
       "COVID                  261\n",
       "IATA                   253\n",
       "Hawaiian Airlines      244\n",
       "Air Canada             238\n",
       "LUV                    236\n",
       "dtype: int64"
      ]
     },
     "execution_count": 16,
     "metadata": {},
     "output_type": "execute_result"
    }
   ],
   "source": [
    "orgcount[:20]"
   ]
  },
  {
   "cell_type": "code",
   "execution_count": null,
   "metadata": {},
   "outputs": [],
   "source": []
  },
  {
   "cell_type": "code",
   "execution_count": 9,
   "metadata": {},
   "outputs": [
    {
     "name": "stdout",
     "output_type": "stream",
     "text": [
      "For Alaska Airlines, the number of mentions is 965\n",
      "For Allegiant Airlines, the number of mentions is 70\n",
      "For American Airlines, the number of mentions is 2733\n",
      "For Boeing Airlines, the number of mentions is 781\n",
      "For Delta Airlines, the number of mentions is 1331\n",
      "For Frontier Airlines, the number of mentions is 291\n",
      "For Hawaiian Airlines, the number of mentions is 320\n",
      "For JetBlue Airlines, the number of mentions is 506\n",
      "For Southwest Airlines, the number of mentions is 1353\n",
      "For Spirit Airlines, the number of mentions is 913\n",
      "For United Airlines, the number of mentions is 1409\n"
     ]
    }
   ],
   "source": [
    "# America Airlines mentioned in articles within the last 30 days \n",
    "import re\n",
    "y=[]\n",
    "z=[]\n",
    "air = []\n",
    "cnt = []\n",
    "for x in airlines_list:\n",
    "    count = sum(orgcount.filter(regex=re.compile(x, re.IGNORECASE)))\n",
    "    if x[-3:]=='Air':\n",
    "        y='lines'\n",
    "    else:\n",
    "        y= ' Airlines'\n",
    "    z = x+y\n",
    "    air.append(z)\n",
    "    cnt.append(count)\n",
    "    \n",
    "    print('For ' +z + \", the number of mentions is \" + str(count))"
   ]
  },
  {
   "cell_type": "code",
   "execution_count": 10,
   "metadata": {},
   "outputs": [],
   "source": [
    "prop_list = []\n",
    "for i in cnt:\n",
    "    prop = i/len(feed_text)*100\n",
    "    prop_list.append(prop)"
   ]
  },
  {
   "cell_type": "code",
   "execution_count": 11,
   "metadata": {},
   "outputs": [
    {
     "data": {
      "text/html": [
       "<div>\n",
       "<style scoped>\n",
       "    .dataframe tbody tr th:only-of-type {\n",
       "        vertical-align: middle;\n",
       "    }\n",
       "\n",
       "    .dataframe tbody tr th {\n",
       "        vertical-align: top;\n",
       "    }\n",
       "\n",
       "    .dataframe thead th {\n",
       "        text-align: right;\n",
       "    }\n",
       "</style>\n",
       "<table border=\"1\" class=\"dataframe\">\n",
       "  <thead>\n",
       "    <tr style=\"text-align: right;\">\n",
       "      <th></th>\n",
       "      <th>Airlines</th>\n",
       "      <th>Count</th>\n",
       "      <th>Percentage</th>\n",
       "    </tr>\n",
       "  </thead>\n",
       "  <tbody>\n",
       "    <tr>\n",
       "      <th>2</th>\n",
       "      <td>American Airlines</td>\n",
       "      <td>2733</td>\n",
       "      <td>20.485721</td>\n",
       "    </tr>\n",
       "    <tr>\n",
       "      <th>10</th>\n",
       "      <td>United Airlines</td>\n",
       "      <td>1409</td>\n",
       "      <td>10.561427</td>\n",
       "    </tr>\n",
       "    <tr>\n",
       "      <th>8</th>\n",
       "      <td>Southwest Airlines</td>\n",
       "      <td>1353</td>\n",
       "      <td>10.141669</td>\n",
       "    </tr>\n",
       "    <tr>\n",
       "      <th>4</th>\n",
       "      <td>Delta Airlines</td>\n",
       "      <td>1331</td>\n",
       "      <td>9.976763</td>\n",
       "    </tr>\n",
       "    <tr>\n",
       "      <th>0</th>\n",
       "      <td>Alaska Airlines</td>\n",
       "      <td>965</td>\n",
       "      <td>7.233341</td>\n",
       "    </tr>\n",
       "    <tr>\n",
       "      <th>9</th>\n",
       "      <td>Spirit Airlines</td>\n",
       "      <td>913</td>\n",
       "      <td>6.843565</td>\n",
       "    </tr>\n",
       "    <tr>\n",
       "      <th>3</th>\n",
       "      <td>Boeing Airlines</td>\n",
       "      <td>781</td>\n",
       "      <td>5.854134</td>\n",
       "    </tr>\n",
       "    <tr>\n",
       "      <th>7</th>\n",
       "      <td>JetBlue Airlines</td>\n",
       "      <td>506</td>\n",
       "      <td>3.792819</td>\n",
       "    </tr>\n",
       "    <tr>\n",
       "      <th>6</th>\n",
       "      <td>Hawaiian Airlines</td>\n",
       "      <td>320</td>\n",
       "      <td>2.398621</td>\n",
       "    </tr>\n",
       "    <tr>\n",
       "      <th>5</th>\n",
       "      <td>Frontier Airlines</td>\n",
       "      <td>291</td>\n",
       "      <td>2.181246</td>\n",
       "    </tr>\n",
       "    <tr>\n",
       "      <th>1</th>\n",
       "      <td>Allegiant Airlines</td>\n",
       "      <td>70</td>\n",
       "      <td>0.524698</td>\n",
       "    </tr>\n",
       "  </tbody>\n",
       "</table>\n",
       "</div>"
      ],
      "text/plain": [
       "              Airlines  Count  Percentage\n",
       "2    American Airlines   2733   20.485721\n",
       "10     United Airlines   1409   10.561427\n",
       "8   Southwest Airlines   1353   10.141669\n",
       "4       Delta Airlines   1331    9.976763\n",
       "0      Alaska Airlines    965    7.233341\n",
       "9      Spirit Airlines    913    6.843565\n",
       "3      Boeing Airlines    781    5.854134\n",
       "7     JetBlue Airlines    506    3.792819\n",
       "6    Hawaiian Airlines    320    2.398621\n",
       "5    Frontier Airlines    291    2.181246\n",
       "1   Allegiant Airlines     70    0.524698"
      ]
     },
     "execution_count": 11,
     "metadata": {},
     "output_type": "execute_result"
    }
   ],
   "source": [
    "us_air_df = pd.DataFrame(list(zip(air, cnt, prop_list)),columns =['Airlines', 'Count', 'Percentage'])\n",
    "\n",
    "us_air_df = us_air_df.sort_values(by = 'Count', ascending = False) \n",
    "us_air_df"
   ]
  },
  {
   "cell_type": "code",
   "execution_count": 12,
   "metadata": {},
   "outputs": [
    {
     "data": {
      "text/plain": [
       "<Figure size 640x480 with 1 Axes>"
      ]
     },
     "metadata": {},
     "output_type": "display_data"
    }
   ],
   "source": [
    "import matplotlib.pyplot as plt\n",
    "us_air_df.plot(kind= 'bar',x='Airlines', y= 'Percentage', title = 'Proportion of US Airlines Media Mentions')\n",
    "plt.show()"
   ]
  },
  {
   "cell_type": "code",
   "execution_count": 12,
   "metadata": {},
   "outputs": [
    {
     "data": {
      "text/plain": [
       "0.06423806311370962"
      ]
     },
     "execution_count": 12,
     "metadata": {},
     "output_type": "execute_result"
    }
   ],
   "source": [
    "# Proportion of Covid keyword mentions in the dataset \n",
    "sum(orgcount.filter(regex=re.compile('COVID', re.IGNORECASE)))/len(feed_text)"
   ]
  }
 ],
 "metadata": {
  "kernelspec": {
   "display_name": "Python 3",
   "language": "python",
   "name": "python3"
  },
  "language_info": {
   "codemirror_mode": {
    "name": "ipython",
    "version": 3
   },
   "file_extension": ".py",
   "mimetype": "text/x-python",
   "name": "python",
   "nbconvert_exporter": "python",
   "pygments_lexer": "ipython3",
   "version": "3.7.3"
  }
 },
 "nbformat": 4,
 "nbformat_minor": 2
}
