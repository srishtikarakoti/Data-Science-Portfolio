{
 "cells": [
  {
   "cell_type": "code",
   "execution_count": 1,
   "metadata": {},
   "outputs": [
    {
     "name": "stdout",
     "output_type": "stream",
     "text": [
      "by Gary Leff on June 28, 2020\n",
      "Airlines want another bailout. They’ve been laying the groundwork for two months . The major unions are asking for full payroll through March . The American Airlines pilots union, at least, is trying to frame the subsidies as pro-consumer calling it the government ‘buying all the middle seats’ although in many ways that’s an even worse idea.\n",
      "There’s no real appetite for another airline bailout, but there are two things the airlines have going for them:\n",
      "Current job losses are slated for October 1, just a month before the Presidential election – that creates a chance for the President to back more bailouts.\n",
      "These are mostly union jobs, and unions are at the forefront making the request – that creates a chance Democratic leadership in the House might back more bailouts.\n",
      "It’s a terrible idea. The President may reportedly not be meeting with his Council of Economic Advisors Chair much, but the hardline taken by the Department of Treasury requiring a portion of CARES Act payroll support to be taken as loans, and taking warrants in return, and demanding real collateral for other funds suggests they won’t roll over either.\n",
      "There are (5) fundamental reasons\n",
      "Too greedy . Airlines have already pushed out employees, there are fewer people on payroll working less hours. There’s no reason to give them as much for payroll as before. Furthermore airlines aren’t literally going to lay everyone off without a bailout. Doug Parker says American needs to lay off 10% – 30% of employees , depending on work group. They don’t want to let go of very many pilots because of the cost of re-training, and that many will be needed again next summer. If we wanted to require airlines to keep all their employees, we’d only need to subsidize perhaps a quarter of payroll .\n",
      "Bad for the economy. We know that airlines are going to be smaller, and need fewer employees. Delaying when employees move on to other jobs delays getting the economy productive again. Delaying economic adjustment by promoting heavily-indebted zombie firms is what gave Japan a ‘lost decade’.\n",
      "Keeping all airlines alive delays industry recovery. Too much industry capacity means everyone is unprofitable, or at least less profitable. That means airlines underperform and have a harder time paying down debt they’ve borrowed to stay in business.\n",
      "Subsidizes airline investors at the expense of taxpayers There’s nothing fundamentally bad for the economy about an airline declaring Chapter 11, shoveling more money at airlines just props up equity and bond investors. The government was willing to do that once, in the rush and fog of initial bailouts. Now that Congress is slowing down the appropriations process (relatively speaking) there’s less of an opportunity for hands in the cookie jar.\n",
      "No money left. Too many priorities, and some limit to the size of bailouts. States are seeing their tax revenue decimated, which may lead to real declines in state government employment (since states have real limitations on their ability to borrow). That hits schools, which have their own vocal interests, and will probably be considered a higher priority than pilots and flight attendants.\n",
      "Doug Parker testifying on the need for subsidies to the US airline industry in 2001\n",
      "Airlines have had little difficulty accessing credit markets throughout the pandemic. The federal government shouldn’t be the provider of funds as a first resort, and they certainly haven’t been a last resort. The major airlines say their business is already out of the woods, yet we should give them another $32 billion? I just don’t see this happening. More From View from the Wing\n",
      "2020-06-29T00:04:00.000+03:00\n",
      "wcfcourier.com\n"
     ]
    }
   ],
   "source": [
    "#!pip install webhoseio\n",
    "#Google for 20 days sorted by published \n",
    "\n",
    "import webhoseio\n",
    "\n",
    "webhoseio.config(token=TOKENKEY)\n",
    "\n",
    "query_params = {\n",
    "    \"q\": \"language:english thread.country:US (site_type:news OR site_type:blogs) thread.title:airline\",\n",
    "    \"ts\": \"1593378509838\",\n",
    "    \"sort\": \"crawled\"\n",
    "\n",
    "}\n",
    "\n",
    "output = webhoseio.query(\"filterWebContent\", query_params)\n",
    "\n",
    "print(output['posts'][0]['text']) # Print the text of the first post\n",
    "\n",
    "print(output['posts'][0]['published']) # Print the text of the first post publication date\n",
    "\n",
    "# Get the next batch of posts\n",
    "\n",
    "output = webhoseio.get_next()\n",
    "\n",
    "# Print the site of the first post\n",
    "\n",
    "print(output['posts'][0]['thread']['site'])\n"
   ]
  },
  {
   "cell_type": "code",
   "execution_count": 2,
   "metadata": {},
   "outputs": [
    {
     "data": {
      "text/plain": [
       "20119"
      ]
     },
     "execution_count": 2,
     "metadata": {},
     "output_type": "execute_result"
    }
   ],
   "source": [
    "#total available posts\n",
    "output['totalResults']"
   ]
  },
  {
   "cell_type": "code",
   "execution_count": 3,
   "metadata": {},
   "outputs": [
    {
     "data": {
      "text/plain": [
       "100"
      ]
     },
     "execution_count": 3,
     "metadata": {},
     "output_type": "execute_result"
    }
   ],
   "source": [
    "#Get the first batch of 100 news posts, add them to newsfeeds - a Python array of JSONs\n",
    "newsfeeds = []\n",
    "for post in output['posts']:\n",
    "    newsfeeds.append(post)\n",
    "len(newsfeeds)"
   ]
  },
  {
   "cell_type": "code",
   "execution_count": 4,
   "metadata": {},
   "outputs": [
    {
     "data": {
      "text/plain": [
       "812"
      ]
     },
     "execution_count": 4,
     "metadata": {},
     "output_type": "execute_result"
    }
   ],
   "source": [
    "output['requestsLeft']"
   ]
  },
  {
   "cell_type": "code",
   "execution_count": 5,
   "metadata": {},
   "outputs": [
    {
     "data": {
      "text/plain": [
       "20019"
      ]
     },
     "execution_count": 5,
     "metadata": {},
     "output_type": "execute_result"
    }
   ],
   "source": [
    "num_more_posts = output['moreResultsAvailable']\n",
    "num_more_posts"
   ]
  },
  {
   "cell_type": "code",
   "execution_count": 6,
   "metadata": {},
   "outputs": [
    {
     "name": "stdout",
     "output_type": "stream",
     "text": [
      "20015\n"
     ]
    }
   ],
   "source": [
    "#Get the next batches and add them to newsfeeds\n",
    "count = 0\n",
    "while count < num_more_posts:    \n",
    "    output = webhoseio.get_next()\n",
    "    for post in output['posts']:\n",
    "        newsfeeds.append(post)\n",
    "    count += 100\n",
    "print(len(newsfeeds))"
   ]
  },
  {
   "cell_type": "code",
   "execution_count": 7,
   "metadata": {},
   "outputs": [],
   "source": [
    "# Write the JSONs to a data file as one line per post JSON object\n",
    "import json\n",
    "\n",
    "with open(\"C:/Users/tramh/github/Data-Science-Portfolio/Airlines Covid-19/data/Airlines_2.json\", \"w\") as data_file:\n",
    "    for feed in newsfeeds:\n",
    "        line = json.dumps(feed)\n",
    "        data_file.write(line)\n",
    "        data_file.write(\"\\n\")"
   ]
  },
  {
   "cell_type": "code",
   "execution_count": 8,
   "metadata": {},
   "outputs": [
    {
     "name": "stdout",
     "output_type": "stream",
     "text": [
      "20015\n"
     ]
    }
   ],
   "source": [
    "#Read the JSON file back into Python array of JSON objects and confirm the count\n",
    "json_data=open(\"C:/Users/tramh/github/Data-Science-Portfolio/Airlines Covid-19/data/Airlines_2.json\").readlines()\n",
    "newsfeeds_read = []\n",
    "for line in json_data:\n",
    "    newsfeeds_read.append(json.loads(line))\n",
    "print(len(newsfeeds_read))"
   ]
  }
 ],
 "metadata": {
  "kernelspec": {
   "display_name": "Python 3",
   "language": "python",
   "name": "python3"
  },
  "language_info": {
   "codemirror_mode": {
    "name": "ipython",
    "version": 3
   },
   "file_extension": ".py",
   "mimetype": "text/x-python",
   "name": "python",
   "nbconvert_exporter": "python",
   "pygments_lexer": "ipython3",
   "version": "3.7.3"
  }
 },
 "nbformat": 4,
 "nbformat_minor": 2
}
